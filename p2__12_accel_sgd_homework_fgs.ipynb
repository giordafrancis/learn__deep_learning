{
 "cells": [
  {
   "cell_type": "markdown",
   "id": "60f22caa-6567-4855-a434-0748b604c3fd",
   "metadata": {},
   "source": [
    "\n",
    "## Schedulers for miniai\n"
   ]
  },
  {
   "cell_type": "code",
   "execution_count": 1,
   "id": "e4e3b955-34e0-4fa9-bc08-9b97b902b7fc",
   "metadata": {},
   "outputs": [],
   "source": [
    "import torch\n",
    "import fastcore.all as fc\n",
    "import numpy as np\n",
    "from torch import tensor\n",
    "import math\n",
    "\n",
    "from miniai.datasets import *\n",
    "from miniai.conv import *\n",
    "from miniai.learner import *\n",
    "from miniai.activations import *\n",
    "from miniai.init import *\n",
    "from miniai.sgd import *"
   ]
  },
  {
   "cell_type": "code",
   "execution_count": 2,
   "id": "62831066-ff96-4b83-baab-a22360b5e6b2",
   "metadata": {},
   "outputs": [],
   "source": [
    "import pickle,gzip,math,os,time,shutil,torch,matplotlib as mpl,numpy as np,matplotlib.pyplot as plt\n",
    "\n",
    "from collections.abc import Mapping\n",
    "from pathlib import Path\n",
    "from operator import attrgetter,itemgetter\n",
    "from functools import partial\n",
    "from copy import copy\n",
    "from contextlib import contextmanager\n",
    "\n",
    "import torchvision.transforms.functional as TF,torch.nn.functional as F\n",
    "from torch import tensor,nn,optim\n",
    "from torch.utils.data import DataLoader,default_collate\n",
    "from torch.nn import init\n",
    "from torch.optim import lr_scheduler\n",
    "from torcheval.metrics import MulticlassAccuracy\n",
    "from datasets import load_dataset,load_dataset_builder\n",
    "     "
   ]
  },
  {
   "cell_type": "code",
   "execution_count": 3,
   "id": "d2bb6889-c202-47c8-a42f-3a4f7709fbe8",
   "metadata": {},
   "outputs": [],
   "source": [
    "from fastcore.test import test_close\n",
    "\n",
    "torch.set_printoptions(precision=2, linewidth=140, sci_mode=False)\n",
    "torch.manual_seed(1)\n",
    "\n",
    "import logging\n",
    "logging.disable(logging.WARNING)\n",
    "\n",
    "set_seed(42)"
   ]
  },
  {
   "cell_type": "code",
   "execution_count": 4,
   "id": "ee58e748-c81a-4ccb-b460-a624c23b5559",
   "metadata": {},
   "outputs": [
    {
     "data": {
      "application/vnd.jupyter.widget-view+json": {
       "model_id": "2736a1defa2b4b129ddad25d588209d7",
       "version_major": 2,
       "version_minor": 0
      },
      "text/plain": [
       "  0%|          | 0/2 [00:00<?, ?it/s]"
      ]
     },
     "metadata": {},
     "output_type": "display_data"
    }
   ],
   "source": [
    "xl,yl = 'image','label'\n",
    "name = \"fashion_mnist\"\n",
    "dsd = load_dataset(name)\n",
    "\n",
    "bs = 1024\n",
    "xmean,xstd = 0.28, 0.35\n",
    "\n",
    "@inplace\n",
    "def transformi(b): b[xl] = [(TF.to_tensor(o)-xmean)/xstd for o in b[xl]]\n",
    "\n",
    "tds = dsd.with_transform(transformi)\n",
    "dls = DataLoaders.from_dd(tds, bs, num_workers=4)"
   ]
  },
  {
   "cell_type": "markdown",
   "id": "47c278bb-d0f2-4a2d-b72f-83f217740e65",
   "metadata": {},
   "source": [
    "\n",
    "## Simple Scheduler\n",
    "\n",
    "Exponential scheduler for learning rate\n",
    "\n",
    "An exponential scheduler implementation that works with PyTorch's optimizers and miniai callbacks.\n",
    "\n",
    "Thanks to [Francisco Mussari](https://gist.github.com/fmussari/d485075eec7d76cdc043d830d20db5a7)\n"
   ]
  },
  {
   "cell_type": "code",
   "execution_count": null,
   "id": "681438ff-9bda-4d25-bf86-860236f5c546",
   "metadata": {},
   "outputs": [],
   "source": [
    "sched_exp"
   ]
  },
  {
   "cell_type": "code",
   "execution_count": 91,
   "id": "7ae23beb-5bb1-4524-a117-39b9adb52b57",
   "metadata": {},
   "outputs": [],
   "source": [
    "# function from fastai schedule\n",
    "def sched_exp(start, end, pos): return start * (end/start) ** pos"
   ]
  },
  {
   "cell_type": "code",
   "execution_count": 129,
   "id": "e3b6199c-5208-419a-b6fb-cc46d7e39d65",
   "metadata": {},
   "outputs": [],
   "source": [
    "import pdb\n",
    "# function from fastai schedule\n",
    "def sched_exp(start, end, pos): return start * (end/start) ** pos\n",
    "\n",
    "class ExpSchedLR():\n",
    "    def __init__(self, optimizer, T_max, start=None, end=0):\n",
    "        self.optimizer = optimizer\n",
    "        self.final_i = T_max - 1\n",
    "        self.end = end\n",
    "        if not start: self.starts = [group['lr'] for group in self.optimizer.param_groups] \n",
    "        else: self.starts = [start for group in self.optimizer.param_groups]\n",
    "        self._step_count = 0\n",
    "        self.step()\n",
    "        # import pdb; pdb.set_trace()\n",
    "        \n",
    "\n",
    "    def step(self):\n",
    "        \"\"\"\n",
    "        Updates optmizers learning rate\n",
    "        \"\"\"\n",
    "        values = self.get_lr()\n",
    "        for data in zip(self.optimizer.param_groups, values):\n",
    "            pg, lr = data\n",
    "            # print(\"before pg['lr']->\", pg['lr'])\n",
    "            pg['lr'] = lr\n",
    "            # print(\"after pg['lr']->\", pg['lr'])    \n",
    "        self._step_count += 1\n",
    "\n",
    "    def get_lr(self):\n",
    "        pos = self._step_count\n",
    "        return [sched_exp(start, self.end, pos/self.final_i) for start in self.starts]"
   ]
  },
  {
   "cell_type": "code",
   "execution_count": null,
   "id": "6c2b7cee-2860-47f9-bab7-3665694e023c",
   "metadata": {},
   "outputs": [],
   "source": []
  },
  {
   "cell_type": "code",
   "execution_count": 130,
   "id": "8c59ab98-ac93-42d9-9d69-d9c5e85e14eb",
   "metadata": {},
   "outputs": [],
   "source": [
    "metrics = MetricsCB(accuracy=MulticlassAccuracy())\n",
    "act_gr = partial(GeneralRelu, leak=0.1, sub=0.4)\n",
    "iw = partial(init_weights, leaky=0.1)\n",
    "\n",
    "def _lr(cb): return cb.pg['lr']\n",
    "rec = RecorderCB(lr=_lr)\n",
    "rec.order = -1 "
   ]
  },
  {
   "cell_type": "code",
   "execution_count": 131,
   "id": "58568e6f-f411-4c23-a359-9c7a315fbf3c",
   "metadata": {},
   "outputs": [],
   "source": [
    "epochs = 1\n",
    "tmax = epochs * len(dls.train)\n",
    "sched = partial(ExpSchedLR, T_max=tmax, end=0.005)"
   ]
  },
  {
   "cell_type": "code",
   "execution_count": 132,
   "id": "88a7f622-ddf2-49e6-9f0d-c2525110bc3d",
   "metadata": {},
   "outputs": [],
   "source": [
    "bsch = BaseSchedCB(sched)"
   ]
  },
  {
   "cell_type": "code",
   "execution_count": 133,
   "id": "05d67f24-c698-460d-bac5-58858ff94921",
   "metadata": {},
   "outputs": [],
   "source": [
    "set_seed(42)\n",
    "model = get_model(act_gr, norm=nn.BatchNorm2d).apply(iw)\n",
    "xtra = [BatchSchedCB(sched), rec]\n",
    "cbs = [DeviceCB(), metrics, ProgressCB(plot=True)]"
   ]
  },
  {
   "cell_type": "code",
   "execution_count": 134,
   "id": "3feb4b89-29a1-4baf-8b89-a31bede2f146",
   "metadata": {},
   "outputs": [
    {
     "data": {
      "text/html": [
       "\n",
       "<style>\n",
       "    /* Turns off some styling */\n",
       "    progress {\n",
       "        /* gets rid of default border in Firefox and Opera. */\n",
       "        border: none;\n",
       "        /* Needs to be in here for Safari polyfill so background images work as expected. */\n",
       "        background-size: auto;\n",
       "    }\n",
       "    progress:not([value]), progress:not([value])::-webkit-progress-bar {\n",
       "        background: repeating-linear-gradient(45deg, #7e7e7e, #7e7e7e 10px, #5c5c5c 10px, #5c5c5c 20px);\n",
       "    }\n",
       "    .progress-bar-interrupted, .progress-bar-interrupted::-webkit-progress-bar {\n",
       "        background: #F44336;\n",
       "    }\n",
       "</style>\n"
      ],
      "text/plain": [
       "<IPython.core.display.HTML object>"
      ]
     },
     "metadata": {},
     "output_type": "display_data"
    },
    {
     "data": {
      "text/html": [
       "<table border=\"1\" class=\"dataframe\">\n",
       "  <thead>\n",
       "    <tr style=\"text-align: left;\">\n",
       "      <th>accuracy</th>\n",
       "      <th>loss</th>\n",
       "      <th>epoch</th>\n",
       "      <th>train</th>\n",
       "    </tr>\n",
       "  </thead>\n",
       "  <tbody>\n",
       "    <tr>\n",
       "      <td>0.804</td>\n",
       "      <td>0.528</td>\n",
       "      <td>0</td>\n",
       "      <td>train</td>\n",
       "    </tr>\n",
       "    <tr>\n",
       "      <td>0.850</td>\n",
       "      <td>0.401</td>\n",
       "      <td>0</td>\n",
       "      <td>eval</td>\n",
       "    </tr>\n",
       "  </tbody>\n",
       "</table>"
      ],
      "text/plain": [
       "<IPython.core.display.HTML object>"
      ]
     },
     "metadata": {},
     "output_type": "display_data"
    },
    {
     "data": {
      "image/png": "[encoded data removed]",
      "text/plain": [
       "<Figure size 432x288 with 1 Axes>"
      ]
     },
     "metadata": {},
     "output_type": "display_data"
    }
   ],
   "source": [
    "learn = TrainLearner(model, dls, F.cross_entropy, lr=2e-2, cbs=cbs+xtra, opt_func=optim.AdamW)\n",
    "learn.fit(epochs)"
   ]
  },
  {
   "cell_type": "markdown",
   "id": "77443cb6-1ef2-44b8-99f9-ed0287419ca0",
   "metadata": {},
   "source": [
    "### How is the learning rate update in pytorch??\n",
    "\n",
    "note the scheduler updates the learning rate in optmizer"
   ]
  },
  {
   "cell_type": "code",
   "execution_count": 140,
   "id": "f2f2d77e-e9d5-4750-a4aa-4ec84381998b",
   "metadata": {},
   "outputs": [
    {
     "name": "stdout",
     "output_type": "stream",
     "text": [
      "Epoch 0, Learning Rate: 0.090000\n",
      "Epoch 1, Learning Rate: 0.081000\n",
      "Epoch 2, Learning Rate: 0.072900\n",
      "Epoch 3, Learning Rate: 0.065610\n",
      "Epoch 4, Learning Rate: 0.059049\n",
      "Epoch 5, Learning Rate: 0.053144\n",
      "Epoch 6, Learning Rate: 0.047830\n",
      "Epoch 7, Learning Rate: 0.043047\n",
      "Epoch 8, Learning Rate: 0.038742\n",
      "Epoch 9, Learning Rate: 0.034868\n"
     ]
    }
   ],
   "source": [
    "# Define a simple model\n",
    "model = nn.Linear(10, 1)\n",
    "\n",
    "# Create an optimizer with initial learning rate\n",
    "initial_lr = 0.1\n",
    "optimizer = optim.SGD(model.parameters(), lr=initial_lr)\n",
    "\n",
    "# Create a scheduler\n",
    "scheduler = optim.lr_scheduler.ExponentialLR(optimizer, gamma=0.9)\n",
    "\n",
    "# Training loop\n",
    "for epoch in range(10):\n",
    "    optimizer.step()\n",
    "    scheduler.step()\n",
    "    current_lr = optimizer.param_groups[0]['lr']\n",
    "    print(f\"Epoch {epoch}, Learning Rate: {current_lr:.6f}\")\n"
   ]
  },
  {
   "cell_type": "code",
   "execution_count": 142,
   "id": "b36fc5e0-e2d1-48c4-82b9-3e8189fe2cf4",
   "metadata": {},
   "outputs": [
    {
     "data": {
      "image/png": "[encoded data removed]",
      "text/plain": [
       "<Figure size 432x288 with 1 Axes>"
      ]
     },
     "metadata": {
      "needs_background": "light"
     },
     "output_type": "display_data"
    }
   ],
   "source": [
    "start, end, T_max = 0.1, 0.001, 100\n",
    "lr_values = [sched_exp(start, end, i/T_max) for i in range(0, T_max+1)]\n",
    "plt.plot(range(T_max+1), lr_values);\n"
   ]
  },
  {
   "cell_type": "code",
   "execution_count": 58,
   "id": "c78e05d1-e667-443a-a337-8896e9c64ef4",
   "metadata": {},
   "outputs": [
    {
     "data": {
      "text/plain": [
       "\u001b[0;31mSignature:\u001b[0m \u001b[0msched_exp\u001b[0m\u001b[0;34m(\u001b[0m\u001b[0mstart\u001b[0m\u001b[0;34m,\u001b[0m \u001b[0mend\u001b[0m\u001b[0;34m,\u001b[0m \u001b[0mpos\u001b[0m\u001b[0;34m)\u001b[0m\u001b[0;34m\u001b[0m\u001b[0;34m\u001b[0m\u001b[0m\n",
       "\u001b[0;31mDocstring:\u001b[0m <no docstring>\n",
       "\u001b[0;31mSource:\u001b[0m    \u001b[0;32mdef\u001b[0m \u001b[0msched_exp\u001b[0m\u001b[0;34m(\u001b[0m\u001b[0mstart\u001b[0m\u001b[0;34m,\u001b[0m \u001b[0mend\u001b[0m\u001b[0;34m,\u001b[0m \u001b[0mpos\u001b[0m\u001b[0;34m)\u001b[0m\u001b[0;34m:\u001b[0m \u001b[0;32mreturn\u001b[0m \u001b[0mstart\u001b[0m \u001b[0;34m*\u001b[0m \u001b[0;34m(\u001b[0m\u001b[0mend\u001b[0m\u001b[0;34m/\u001b[0m\u001b[0mstart\u001b[0m\u001b[0;34m)\u001b[0m \u001b[0;34m**\u001b[0m \u001b[0mpos\u001b[0m\u001b[0;34m\u001b[0m\u001b[0;34m\u001b[0m\u001b[0m\n",
       "\u001b[0;31mFile:\u001b[0m      /tmp/ipykernel_1557/3094456810.py\n",
       "\u001b[0;31mType:\u001b[0m      function\n"
      ]
     },
     "metadata": {},
     "output_type": "display_data"
    }
   ],
   "source": [
    "sched_exp??"
   ]
  },
  {
   "cell_type": "code",
   "execution_count": 62,
   "id": "f680e785-036d-47bb-989c-10c905068fc3",
   "metadata": {},
   "outputs": [
    {
     "data": {
      "text/plain": [
       "[0.0010964781961431851, 0.0010471285480508996, 0.001]"
      ]
     },
     "execution_count": 62,
     "metadata": {},
     "output_type": "execute_result"
    }
   ],
   "source": [
    "lr_values[-3:]"
   ]
  },
  {
   "cell_type": "code",
   "execution_count": 69,
   "id": "c265e278-e630-45de-af19-bfeec496feb8",
   "metadata": {},
   "outputs": [
    {
     "data": {
      "text/plain": [
       "(0.1, 0.010000000000000002, 0.001)"
      ]
     },
     "execution_count": 69,
     "metadata": {},
     "output_type": "execute_result"
    }
   ],
   "source": [
    "start * (end/start) ** (0/T_max) , start * (end/start) ** (50/T_max), start * (end/start) ** (100/T_max)  "
   ]
  }
 ],
 "metadata": {
  "kernelspec": {
   "display_name": "Python 3 (ipykernel)",
   "language": "python",
   "name": "python3"
  },
  "language_info": {
   "codemirror_mode": {
    "name": "ipython",
    "version": 3
   },
   "file_extension": ".py",
   "mimetype": "text/x-python",
   "name": "python",
   "nbconvert_exporter": "python",
   "pygments_lexer": "ipython3",
   "version": "3.9.13"
  }
 },
 "nbformat": 4,
 "nbformat_minor": 5
}
